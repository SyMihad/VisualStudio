{
 "cells": [
  {
   "cell_type": "code",
   "execution_count": 2,
   "metadata": {},
   "outputs": [],
   "source": [
    "import cv2\n",
    "import numpy as np"
   ]
  },
  {
   "cell_type": "code",
   "execution_count": 3,
   "metadata": {},
   "outputs": [],
   "source": [
    "canvas = np.zeros((300,300,3),dtype=\"uint8\")"
   ]
  },
  {
   "cell_type": "code",
   "execution_count": 4,
   "metadata": {},
   "outputs": [],
   "source": [
    "def display(name, data):\n",
    "    cv2.imshow(name, data)\n",
    "    cv2.waitKey(0)\n",
    "    cv2.destroyAllWindows()"
   ]
  },
  {
   "cell_type": "code",
   "execution_count": 5,
   "metadata": {},
   "outputs": [],
   "source": [
    "display(\"canvas\", canvas)"
   ]
  },
  {
   "cell_type": "code",
   "execution_count": 6,
   "metadata": {},
   "outputs": [],
   "source": [
    "green = (0,255, 0)\n",
    "cv2.line(canvas, (0, 0), (300, 300), green)\n",
    "display(\"green Line\", canvas)"
   ]
  },
  {
   "cell_type": "code",
   "execution_count": 7,
   "metadata": {},
   "outputs": [],
   "source": [
    "red = (0, 0, 255)\n",
    "cv2.line(canvas, (300, 0), (0, 300), red)\n",
    "display(\"red Line\", canvas)"
   ]
  },
  {
   "cell_type": "code",
   "execution_count": 8,
   "metadata": {},
   "outputs": [],
   "source": [
    "cv2.rectangle(canvas, (10,10), (50,50), green)\n",
    "display(\"draw\", canvas)"
   ]
  },
  {
   "cell_type": "code",
   "execution_count": 9,
   "metadata": {},
   "outputs": [],
   "source": [
    "cv2.rectangle(canvas, (110,200), (190,250), red,5)\n",
    "display(\"draw\", canvas)"
   ]
  },
  {
   "cell_type": "code",
   "execution_count": 10,
   "metadata": {},
   "outputs": [],
   "source": [
    "blue = (255, 0, 0)\n",
    "cv2.rectangle(canvas, (210,105), (250,170), blue, -1)\n",
    "display(\"draw\", canvas)"
   ]
  },
  {
   "cell_type": "code",
   "execution_count": 12,
   "metadata": {},
   "outputs": [],
   "source": [
    "centerx, centery = (canvas.shape[1]//2, canvas.shape[0]//2)\n",
    "\n",
    "white = (255, 255, 255)\n",
    "\n",
    "for i in range(0, 175, 25):\n",
    "    cv2.circle(canvas, (centerx, centery), i, white)\n",
    "\n",
    "display(\"circle\", canvas)"
   ]
  },
  {
   "cell_type": "code",
   "execution_count": 15,
   "metadata": {},
   "outputs": [],
   "source": [
    "canvas2 = np.zeros((300,300,3), dtype=\"uint8\")\n",
    "for i in range (0,25):\n",
    "    radius = np.random.randint(5,200)\n",
    "    colour = np.random.randint(0, 256, size=(3,)).tolist()\n",
    "    pt = np.random.randint(0, 300, size=(2,))\n",
    "\n",
    "    cv2.circle(canvas2, pt, radius, colour, -1)\n",
    "\n",
    "display(\"circle\", canvas2)"
   ]
  }
 ],
 "metadata": {
  "interpreter": {
   "hash": "916dbcbb3f70747c44a77c7bcd40155683ae19c65e1c03b4aa3499c5328201f1"
  },
  "kernelspec": {
   "display_name": "Python 3.9.5 64-bit",
   "name": "python3"
  },
  "language_info": {
   "codemirror_mode": {
    "name": "ipython",
    "version": 3
   },
   "file_extension": ".py",
   "mimetype": "text/x-python",
   "name": "python",
   "nbconvert_exporter": "python",
   "pygments_lexer": "ipython3",
   "version": "3.9.5"
  },
  "orig_nbformat": 4
 },
 "nbformat": 4,
 "nbformat_minor": 2
}
