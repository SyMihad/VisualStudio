{
 "cells": [
  {
   "cell_type": "code",
   "execution_count": 5,
   "metadata": {},
   "outputs": [],
   "source": [
    "import cv2"
   ]
  },
  {
   "cell_type": "code",
   "execution_count": 6,
   "metadata": {},
   "outputs": [],
   "source": [
    "img = cv2.imread(\"images/bird.jpg\")"
   ]
  },
  {
   "cell_type": "code",
   "execution_count": 7,
   "metadata": {},
   "outputs": [
    {
     "name": "stdout",
     "output_type": "stream",
     "text": [
      "[[[ 88 188 253]\n",
      "  [ 88 188 253]\n",
      "  [ 88 188 253]\n",
      "  ...\n",
      "  [ 45 137 214]\n",
      "  [ 45 137 214]\n",
      "  [ 44 136 213]]\n",
      "\n",
      " [[ 88 188 253]\n",
      "  [ 88 188 253]\n",
      "  [ 88 188 253]\n",
      "  ...\n",
      "  [ 45 137 214]\n",
      "  [ 45 137 214]\n",
      "  [ 45 137 214]]\n",
      "\n",
      " [[ 88 188 253]\n",
      "  [ 88 188 253]\n",
      "  [ 88 188 253]\n",
      "  ...\n",
      "  [ 46 138 215]\n",
      "  [ 45 137 214]\n",
      "  [ 45 137 214]]\n",
      "\n",
      " ...\n",
      "\n",
      " [[ 73 170 226]\n",
      "  [ 72 169 225]\n",
      "  [ 70 170 225]\n",
      "  ...\n",
      "  [  1  36  50]\n",
      "  [ 29  77  95]\n",
      "  [ 67 120 140]]\n",
      "\n",
      " [[ 73 170 226]\n",
      "  [ 73 170 226]\n",
      "  [ 70 170 225]\n",
      "  ...\n",
      "  [  0  32  46]\n",
      "  [ 11  61  81]\n",
      "  [ 29  83 106]]\n",
      "\n",
      " [[ 75 172 228]\n",
      "  [ 73 170 226]\n",
      "  [ 72 170 224]\n",
      "  ...\n",
      "  [  0  33  50]\n",
      "  [  2  51  77]\n",
      "  [ 94 148 178]]]\n"
     ]
    }
   ],
   "source": [
    "print(img)"
   ]
  },
  {
   "cell_type": "code",
   "execution_count": 9,
   "metadata": {},
   "outputs": [],
   "source": [
    "cv2.imshow('show', img)\n",
    "cv2.waitKey(0)\n",
    "cv2.destroyAllWindows()"
   ]
  },
  {
   "cell_type": "code",
   "execution_count": 11,
   "metadata": {},
   "outputs": [
    {
     "data": {
      "text/plain": [
       "True"
      ]
     },
     "execution_count": 11,
     "metadata": {},
     "output_type": "execute_result"
    }
   ],
   "source": [
    "cv2.imwrite(\"images/bird2.png\", img)"
   ]
  },
  {
   "cell_type": "code",
   "execution_count": 12,
   "metadata": {},
   "outputs": [],
   "source": [
    "b, g, r = cv2.split(img)"
   ]
  },
  {
   "cell_type": "code",
   "execution_count": 13,
   "metadata": {},
   "outputs": [],
   "source": [
    "cv2.imshow('show', img)\n",
    "cv2.imshow(\"blue\", b)\n",
    "cv2.imshow(\"green\", g)\n",
    "cv2.imshow(\"red\", r)\n",
    "cv2.waitKey(0)\n",
    "cv2.destroyAllWindows()"
   ]
  },
  {
   "cell_type": "code",
   "execution_count": null,
   "metadata": {},
   "outputs": [],
   "source": []
  }
 ],
 "metadata": {
  "interpreter": {
   "hash": "31f2aee4e71d21fbe5cf8b01ff0e069b9275f58929596ceb00d14d90e3e16cd6"
  },
  "kernelspec": {
   "display_name": "Python 3.9.5 64-bit",
   "name": "python3"
  },
  "language_info": {
   "codemirror_mode": {
    "name": "ipython",
    "version": 3
   },
   "file_extension": ".py",
   "mimetype": "text/x-python",
   "name": "python",
   "nbconvert_exporter": "python",
   "pygments_lexer": "ipython3",
   "version": "3.9.5"
  },
  "orig_nbformat": 4
 },
 "nbformat": 4,
 "nbformat_minor": 2
}
