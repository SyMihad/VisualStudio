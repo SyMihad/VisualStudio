{
 "cells": [
  {
   "cell_type": "code",
   "execution_count": 13,
   "metadata": {},
   "outputs": [
    {
     "name": "stdout",
     "output_type": "stream",
     "text": [
      "{'Arad': 366}\n",
      "366\n",
      "0\n",
      "Arad\n",
      "['Arad']\n"
     ]
    }
   ],
   "source": [
    "GRAPH = {\n",
    "    'Arad': {'Sibiu': 140, 'Zerind': 75, 'Timisoara': 118},\n",
    "    'Zerind': {'Arad': 75, 'Oradea': 71},\n",
    "    'Oradea': {'Zerind': 71, 'Sibiu': 151},\n",
    "    'Sibiu': {'Arad': 140, 'Oradea': 151, 'Fagaras': 99, 'Rimnicu': 80},\n",
    "    'Timisoara': {'Arad': 118, 'Lugoj': 111},\n",
    "    'Lugoj': {'Timisoara': 111, 'Mehadia': 70},\n",
    "    'Mehadia': {'Lugoj': 70, 'Drobeta': 75},\n",
    "    'Drobeta': {'Mehadia': 75, 'Craiova': 120},\n",
    "    'Craiova': {'Drobeta': 120, 'Rimnicu': 146, 'Pitesti': 138},\n",
    "    'Rimnicu': {'Sibiu': 80, 'Craiova': 146, 'Pitesti': 97},\n",
    "    'Fagaras': {'Sibiu': 99, 'Bucharest': 211},\n",
    "    'Pitesti': {'Rimnicu': 97, 'Craiova': 138, 'Bucharest': 101},\n",
    "    'Bucharest': {'Fagaras': 211, 'Pitesti': 101, 'Giurgiu': 90, 'Urziceni': 85},\n",
    "    'Giurgiu': {'Bucharest': 90},\n",
    "    'Urziceni': {'Bucharest': 85, 'Vaslui': 142, 'Hirsova': 98},\n",
    "    'Hirsova': {'Urziceni': 98, 'Eforie': 86},\n",
    "    'Eforie': {'Hirsova': 86},\n",
    "    'Vaslui': {'Iasi': 92, 'Urziceni': 142},\n",
    "    'Iasi': {'Vaslui': 92, 'Neamt': 87},\n",
    "    'Neamt': {'Iasi': 87}\n",
    "}\n",
    "\n",
    "\n",
    "\n",
    "straight_line = {\n",
    "    'Arad': 366,\n",
    "    'Zerind': 374,\n",
    "    'Oradea': 380,\n",
    "    'Sibiu': 253,\n",
    "    'Timisoara': 329,\n",
    "    'Lugoj': 244,\n",
    "    'Mehadia': 241,\n",
    "    'Drobeta': 242,\n",
    "    'Craiova': 160,\n",
    "    'Rimnicu': 193,\n",
    "    'Fagaras': 176,\n",
    "    'Pitesti': 100,\n",
    "    'Bucharest': 0,\n",
    "    'Giurgiu': 77,\n",
    "    'Urziceni': 80,\n",
    "    'Hirsova': 151,\n",
    "    'Eforie': 161,\n",
    "    'Vaslui': 199,\n",
    "    'Iasi': 226,\n",
    "    'Neamt': 234\n",
    "}\n",
    "\n",
    "from queue import PriorityQueue\n",
    "\n",
    "source = \"Arad\"\n",
    "goal = \"Bucharest\"\n",
    "\n",
    "priority_queue, visited = PriorityQueue(), {}\n",
    "\n",
    "priority_queue.put((straight_line[source], 0, source, [source]))\n",
    "visited[source] = straight_line[source]\n",
    "print(visited)\n",
    "while not priority_queue.empty():\n",
    "    (heuristic, cost, vertex, path) = priority_queue.get()\n",
    "    \n",
    "\n",
    "\n",
    "    \n",
    "\n",
    "\n",
    "\n",
    "\n"
   ]
  },
  {
   "cell_type": "code",
   "execution_count": 4,
   "metadata": {},
   "outputs": [
    {
     "name": "stdout",
     "output_type": "stream",
     "text": [
      "140\n",
      "75\n",
      "118\n"
     ]
    }
   ],
   "source": [
    "GRAPH = {\n",
    "    'Arad': {'Sibiu': 140, 'Zerind': 75, 'Timisoara': 118},\n",
    "    'Zerind': {'Arad': 75, 'Oradea': 71},\n",
    "    'Oradea': {'Zerind': 71, 'Sibiu': 151},\n",
    "    'Sibiu': {'Arad': 140, 'Oradea': 151, 'Fagaras': 99, 'Rimnicu': 80},\n",
    "    'Timisoara': {'Arad': 118, 'Lugoj': 111},\n",
    "    'Lugoj': {'Timisoara': 111, 'Mehadia': 70},\n",
    "    'Mehadia': {'Lugoj': 70, 'Drobeta': 75},\n",
    "    'Drobeta': {'Mehadia': 75, 'Craiova': 120},\n",
    "    'Craiova': {'Drobeta': 120, 'Rimnicu': 146, 'Pitesti': 138},\n",
    "    'Rimnicu': {'Sibiu': 80, 'Craiova': 146, 'Pitesti': 97},\n",
    "    'Fagaras': {'Sibiu': 99, 'Bucharest': 211},\n",
    "    'Pitesti': {'Rimnicu': 97, 'Craiova': 138, 'Bucharest': 101},\n",
    "    'Bucharest': {'Fagaras': 211, 'Pitesti': 101, 'Giurgiu': 90, 'Urziceni': 85},\n",
    "    'Giurgiu': {'Bucharest': 90},\n",
    "    'Urziceni': {'Bucharest': 85, 'Vaslui': 142, 'Hirsova': 98},\n",
    "    'Hirsova': {'Urziceni': 98, 'Eforie': 86},\n",
    "    'Eforie': {'Hirsova': 86},\n",
    "    'Vaslui': {'Iasi': 92, 'Urziceni': 142},\n",
    "    'Iasi': {'Vaslui': 92, 'Neamt': 87},\n",
    "    'Neamt': {'Iasi': 87}\n",
    "}\n",
    "\n",
    "for next_node in GRAPH['Arad']:\n",
    "    cost = GRAPH['Arad'][next_node]\n",
    "    print(cost)\n"
   ]
  },
  {
   "cell_type": "code",
   "execution_count": null,
   "metadata": {},
   "outputs": [],
   "source": []
  }
 ],
 "metadata": {
  "kernelspec": {
   "display_name": "Python 3.10.0 64-bit",
   "language": "python",
   "name": "python3"
  },
  "language_info": {
   "codemirror_mode": {
    "name": "ipython",
    "version": 3
   },
   "file_extension": ".py",
   "mimetype": "text/x-python",
   "name": "python",
   "nbconvert_exporter": "python",
   "pygments_lexer": "ipython3",
   "version": "3.10.0"
  },
  "orig_nbformat": 4,
  "vscode": {
   "interpreter": {
    "hash": "0d290a1cd2bae18bfd0bbffe21358ca700899594c085f5741b3127eb3155918d"
   }
  }
 },
 "nbformat": 4,
 "nbformat_minor": 2
}
