{
 "cells": [
  {
   "cell_type": "code",
   "execution_count": 16,
   "metadata": {},
   "outputs": [
    {
     "name": "stdout",
     "output_type": "stream",
     "text": [
      "Person Distance= 1\n",
      "Person Position=Back\n",
      "Door Condition:Open Front\n"
     ]
    }
   ],
   "source": [
    "#problem1\n",
    "\n",
    "import random\n",
    "\n",
    "distance = random.choice([1,2])\n",
    "position = random.choice(['Front','Back'])\n",
    "doorCondition = 'close'\n",
    "\n",
    "if distance==1:\n",
    "    if position=='Front':\n",
    "        doorCondition = 'Open Back'\n",
    "    elif position=='Back':\n",
    "        doorCondition = \"Open Front\"\n",
    "\n",
    "elif distance==2:\n",
    "    doorCondition= 'Closed'\n",
    "\n",
    "print(\"Person Distance= \" + str(distance) + \"\\nPerson Position=\" + str(position) + \"\\nDoor Condition:\" + str(doorCondition))"
   ]
  },
  {
   "cell_type": "code",
   "execution_count": 18,
   "metadata": {},
   "outputs": [
    {
     "name": "stdout",
     "output_type": "stream",
     "text": [
      "People in room: No\n",
      "Time=Night\n",
      "Light=off\n",
      "Fan=off\n"
     ]
    }
   ],
   "source": [
    "#problem2\n",
    "import random\n",
    "\n",
    "roomCondition = random.choice(['Yes','No'])\n",
    "time = random.choice(['Day','Night'])\n",
    "\n",
    "light = 'off'\n",
    "fan = 'off'\n",
    "\n",
    "if roomCondition == 'Yes':\n",
    "    if time=='Day':\n",
    "        light = 'off'\n",
    "        fan = 'on'\n",
    "    elif time == 'Night':\n",
    "        light = 'on'\n",
    "        fan = 'on'\n",
    "elif roomCondition == 'No':\n",
    "    ligth = 'off'\n",
    "    fan = 'off'\n",
    "\n",
    "print(\"People in room: \" + roomCondition + \"\\nTime=\" + time + \"\\nLight=\" + light + \"\\nFan=\" + fan)"
   ]
  },
  {
   "cell_type": "code",
   "execution_count": 43,
   "metadata": {},
   "outputs": [
    {
     "name": "stdout",
     "output_type": "stream",
     "text": [
      "Picked\n",
      "All Stones= [1, 2, 3, 4, 5, 8]\n"
     ]
    }
   ],
   "source": [
    "#problem3\n",
    "\n",
    "availableStone = [1,2,3,4,5]\n",
    "\n",
    "pickedStone = int(input(\"Enter Stone Size:\"))\n",
    "\n",
    "picked = True\n",
    "\n",
    "for i in availableStone:\n",
    "    if pickedStone==i:\n",
    "        picked=False\n",
    "\n",
    "if picked==True:\n",
    "    print(\"Picked\")\n",
    "    availableStone.append(pickedStone)\n",
    "else:\n",
    "    print(\"Stone already collected\")\n",
    "\n",
    "print(\"All Stones=\", availableStone)\n"
   ]
  },
  {
   "cell_type": "code",
   "execution_count": null,
   "metadata": {},
   "outputs": [],
   "source": []
  }
 ],
 "metadata": {
  "interpreter": {
   "hash": "e7370f93d1d0cde622a1f8e1c04877d8463912d04d973331ad4851f04de6915a"
  },
  "kernelspec": {
   "display_name": "Python 3.10.4 64-bit",
   "language": "python",
   "name": "python3"
  },
  "language_info": {
   "codemirror_mode": {
    "name": "ipython",
    "version": 3
   },
   "file_extension": ".py",
   "mimetype": "text/x-python",
   "name": "python",
   "nbconvert_exporter": "python",
   "pygments_lexer": "ipython3",
   "version": "3.10.4"
  },
  "orig_nbformat": 4
 },
 "nbformat": 4,
 "nbformat_minor": 2
}
