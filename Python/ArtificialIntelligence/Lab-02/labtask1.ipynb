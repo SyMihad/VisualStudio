{
 "cells": [
  {
   "cell_type": "code",
   "execution_count": 1,
   "metadata": {},
   "outputs": [
    {
     "name": "stdout",
     "output_type": "stream",
     "text": [
      "[9, 11, 7, 9]\n"
     ]
    }
   ],
   "source": [
    "def addList(list1, list2):\n",
    "    list3 = []\n",
    "    for i in range(len(list1)):\n",
    "        list3.append(list1[i]+list2[i])\n",
    "    return list3\n",
    "\n",
    "list1 = [3,4,5,1]\n",
    "list2 = [6,7,2,8]\n",
    "print(addList(list1, list2))"
   ]
  },
  {
   "cell_type": "code",
   "execution_count": 3,
   "metadata": {},
   "outputs": [
    {
     "name": "stdout",
     "output_type": "stream",
     "text": [
      "First name =  Arafat\n",
      "Last name =  Sunny\n"
     ]
    }
   ],
   "source": [
    "def printName(name):\n",
    "    nameList = name.split()\n",
    "    print(\"First name = \", nameList[0])\n",
    "    print(\"Last name = \", nameList[len(nameList)-1])\n",
    "\n",
    "printName(input(\"Enter Name=\"))"
   ]
  },
  {
   "cell_type": "code",
   "execution_count": 4,
   "metadata": {},
   "outputs": [
    {
     "name": "stdout",
     "output_type": "stream",
     "text": [
      "B+\n"
     ]
    }
   ],
   "source": [
    "number = int(input(\"Enter number=\"))\n",
    "\n",
    "if ((number<=100) and (number>=90)):\n",
    "    print(\"A+\")\n",
    "elif ((number<90) and (number>=85)):\n",
    "    print(\"A\")\n",
    "elif ((number<85) and (number>=80)):\n",
    "    print(\"B+\")\n",
    "elif ((number<80) and (number>=75)):\n",
    "    print(\"B\")\n",
    "elif ((number<75) and (number>=70)):\n",
    "    print(\"C+\")\n",
    "elif ((number<70) and (number>=65)):\n",
    "    print(\"C\")\n",
    "elif ((number<65) and (number>=60)):\n",
    "    print(\"D+\")\n",
    "elif ((number<60) and (number>=50)):\n",
    "    print(\"D\")\n",
    "else:\n",
    "    print(\"F\")"
   ]
  },
  {
   "cell_type": "code",
   "execution_count": null,
   "metadata": {},
   "outputs": [],
   "source": []
  }
 ],
 "metadata": {
  "interpreter": {
   "hash": "e7370f93d1d0cde622a1f8e1c04877d8463912d04d973331ad4851f04de6915a"
  },
  "kernelspec": {
   "display_name": "Python 3.10.4 64-bit",
   "language": "python",
   "name": "python3"
  },
  "language_info": {
   "codemirror_mode": {
    "name": "ipython",
    "version": 3
   },
   "file_extension": ".py",
   "mimetype": "text/x-python",
   "name": "python",
   "nbconvert_exporter": "python",
   "pygments_lexer": "ipython3",
   "version": "3.10.4"
  },
  "orig_nbformat": 4
 },
 "nbformat": 4,
 "nbformat_minor": 2
}
