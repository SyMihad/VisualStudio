{
 "cells": [
  {
   "cell_type": "code",
   "execution_count": 31,
   "metadata": {},
   "outputs": [],
   "source": [
    "table = {('A','Clean'):'Right',\n",
    "         ('A','Dirty'):'Suck',\n",
    "         ('B','Clean'):'Left',\n",
    "         ('B','Dirty'):'Suck'}"
   ]
  },
  {
   "cell_type": "code",
   "execution_count": 32,
   "metadata": {},
   "outputs": [
    {
     "data": {
      "text/plain": [
       "dict"
      ]
     },
     "execution_count": 32,
     "metadata": {},
     "output_type": "execute_result"
    }
   ],
   "source": [
    "type(table)"
   ]
  },
  {
   "cell_type": "code",
   "execution_count": 33,
   "metadata": {},
   "outputs": [
    {
     "data": {
      "text/plain": [
       "{('A', 'Clean'): 'Right',\n",
       " ('A', 'Dirty'): 'Suck',\n",
       " ('B', 'Clean'): 'Left',\n",
       " ('B', 'Dirty'): 'Suck'}"
      ]
     },
     "execution_count": 33,
     "metadata": {},
     "output_type": "execute_result"
    }
   ],
   "source": [
    "table"
   ]
  },
  {
   "cell_type": "code",
   "execution_count": 34,
   "metadata": {},
   "outputs": [
    {
     "data": {
      "text/plain": [
       "'Right'"
      ]
     },
     "execution_count": 34,
     "metadata": {},
     "output_type": "execute_result"
    }
   ],
   "source": [
    "table['A','Clean']"
   ]
  },
  {
   "cell_type": "code",
   "execution_count": 24,
   "metadata": {},
   "outputs": [
    {
     "name": "stdout",
     "output_type": "stream",
     "text": [
      "Initial \n",
      "Location=B\n",
      "Conditon=Dirty\n",
      "Action=Suck\n",
      "\n",
      "After action \n",
      "Location=B\n"
     ]
    }
   ],
   "source": [
    "import random\n",
    "\n",
    "location = random.choice(['A','B'])\n",
    "condition = random.choice(['Clean','Dirty'])\n",
    "\n",
    "table = {('A','Clean'):'Right',('A','Dirty'):'Suck',('B','Clean'):'Left',('B','Dirty'):'Suck'}\n",
    "\n",
    "\n",
    "action = table[location, condition]\n",
    "print(\"Initial \\nLocation=\" + location + \"\\nConditon=\" + condition + \"\\nAction=\" + action)\n",
    "\n",
    "if action == 'Right':\n",
    "    location = 'B'\n",
    "elif action == 'Left':\n",
    "    location = 'A'\n",
    "\n",
    "print(\"\\nAfter action \\n\" + 'Location=' + location)"
   ]
  },
  {
   "cell_type": "code",
   "execution_count": 21,
   "metadata": {},
   "outputs": [
    {
     "name": "stdout",
     "output_type": "stream",
     "text": [
      "Perception Received: ('A', 'Clean')\n"
     ]
    }
   ],
   "source": [
    "table={('A','Clean'):'Right',\n",
    "('A','Dirty'):'Suck',\n",
    "('B','Clean'):'Left',\n",
    "('B','Dirty'):'Suck'}\n",
    "\n",
    "#percepts=[]\n",
    "\n",
    "def table_driven_agent(percept):\n",
    "    print('Perception Received: '+ str(percept))\n",
    "    #percepts.append(percept)\n",
    "    action = lookup(percept,table)\n",
    "    return action\n",
    "\n",
    "def lookup(percept,table):\n",
    "    return table[percept]\n",
    "\n",
    "import random\n",
    "Location = random.choice(['A','B'])\n",
    "Condition = random.choice(['Clean','Dirty'])\n",
    "action = table_driven_agent((Location, Condition))\n"
   ]
  }
 ],
 "metadata": {
  "interpreter": {
   "hash": "e7370f93d1d0cde622a1f8e1c04877d8463912d04d973331ad4851f04de6915a"
  },
  "kernelspec": {
   "display_name": "Python 3.10.4 64-bit",
   "language": "python",
   "name": "python3"
  },
  "language_info": {
   "codemirror_mode": {
    "name": "ipython",
    "version": 3
   },
   "file_extension": ".py",
   "mimetype": "text/x-python",
   "name": "python",
   "nbconvert_exporter": "python",
   "pygments_lexer": "ipython3",
   "version": "3.10.5"
  },
  "orig_nbformat": 4
 },
 "nbformat": 4,
 "nbformat_minor": 2
}
